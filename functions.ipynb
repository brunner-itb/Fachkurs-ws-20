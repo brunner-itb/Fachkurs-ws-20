{
 "cells": [
  {
   "cell_type": "code",
   "execution_count": null,
   "metadata": {
    "collapsed": true
   },
   "outputs": [],
   "source": [
    "import numpy as np\n",
    "from scipy.special import j0, j1, jn_zeros\n",
    "\n",
    "#==============================================================================\n",
    "# functions\n",
    "#==============================================================================\n",
    "def get_alpha_n(n_max,a):\n",
    "    bessel_roots = jn_zeros(0, n_max)\n",
    "    alpha_n = bessel_roots / a\n",
    "    \n",
    "    assert alpha_n.all() > 0\n",
    "    \n",
    "    return alpha_n\n",
    "\n",
    "def get_coeff(a, l, alpha_n, R, R_resp, k_on, q, D):\n",
    "    \"\"\"\n",
    "    returns coefficients A_n and B_n as list    \n",
    "    \"\"\"\n",
    "    p = (k_on * R_resp) / (np.pi * D * a**2)\n",
    "    \n",
    "    denom_a = a * alpha_n * j1(alpha_n*a)\n",
    "    denom_b = alpha_n * k_on * (R+R_resp) * np.cosh(alpha_n*l)\n",
    "    denom_c = a**2 * alpha_n**2 * D * np.pi + k_on * R * p\n",
    "    denom_d = np.sinh(alpha_n*l)\n",
    "    denom = denom_a * (denom_b + denom_c * denom_d)\n",
    "             \n",
    "    #print R, denom_a, denom_b, denom_c\n",
    "    assert denom != 0\n",
    "    \n",
    "    a_n = 2 * q * (alpha_n * np.cosh(alpha_n*l) + p * np.sinh(alpha_n*l)) / denom\n",
    "    b_n = -2 * q * (p * np.cosh(alpha_n*l) + alpha_n * np.sinh(alpha_n*l)) / denom\n",
    "    \n",
    "    return [a_n, b_n]\n",
    "\n",
    "def bessel_sum(r, z, n_max, a, l, R, R_resp, k_on, q, D):\n",
    "    \n",
    "    # for each n in n_max, get the corresponding alpha and coefficients\n",
    "    alphas = get_alpha_n(n_max, a)\n",
    "    coeff = [get_coeff(a, l, alpha_n, R, R_resp, k_on, q, D) for alpha_n in alphas]\n",
    "    intensity = 0\n",
    "    \n",
    "    # calculate the sum of bessel functions times coefficients from n=1 up to n=n_max \n",
    "    for i in range(n_max):\n",
    "        # get coefficients and alphas (previously calculated)\n",
    "        # note the indexing, since n starts with 1\n",
    "        a_n = coeff[i][0]\n",
    "        b_n = coeff[i][1]\n",
    "        alpha_n = alphas[i]\n",
    "\n",
    "              \n",
    "        intensity = intensity + (j0(alpha_n*r)*(a_n*np.cosh(alpha_n*z) + b_n*np.sinh(alpha_n * z)))\n",
    "    \n",
    "    if intensity < 0:\n",
    "        intensity = 0\n",
    "        \n",
    "    assert intensity >= 0\n",
    "    \n",
    "    return intensity"
   ]
  }
 ],
 "metadata": {
  "kernelspec": {
   "display_name": "Python 3",
   "language": "python",
   "name": "python3"
  },
  "language_info": {
   "codemirror_mode": {
    "name": "ipython",
    "version": 3
   },
   "file_extension": ".py",
   "mimetype": "text/x-python",
   "name": "python",
   "nbconvert_exporter": "python",
   "pygments_lexer": "ipython3",
   "version": "3.5.3"
  }
 },
 "nbformat": 4,
 "nbformat_minor": 2
}

{
 "cells": [
  {
   "cell_type": "markdown",
   "metadata": {},
   "source": [
    "# Fachkurs 2020, Thurley Gruppe"
   ]
  },
  {
   "cell_type": "code",
   "execution_count": 1,
   "metadata": {
    "collapsed": false
   },
   "outputs": [],
   "source": [
    "#!/usr/bin/env python3\n",
    "# -*- coding: utf-8 -*-\n",
    "\"\"\"\n",
    "Created on Tue Feb 12 17:30:07 2019\n",
    "\n",
    "@author: philipp burt\n",
    "script to simulate diffusion inside an immunological synapse\n",
    "modified for fachkurs WS 2020 by Patrick Brunner\n",
    "\"\"\"\n",
    "#==============================================================================\n",
    "# import modules\n",
    "#==============================================================================\n",
    "import numpy as np\n",
    "import matplotlib.pyplot as plt\n",
    "import seaborn as sns\n",
    "from scipy.special import j0, j1, jn_zeros\n",
    "sns.set(context = \"talk\", style = \"ticks\")\n",
    "\n",
    "import functions as functions"
   ]
  },
  {
   "cell_type": "code",
   "execution_count": 2,
   "metadata": {
    "collapsed": true
   },
   "outputs": [],
   "source": [
    "#==============================================================================\n",
    "# parameters\n",
    "#==============================================================================\n",
    "\n",
    "# system parameters\n",
    "\n",
    "# synapse contact area radius (micrometer)\n",
    "a = 2.0\n",
    "# synaptic distance (micrometer)\n",
    "l = 0.02\n",
    "# IL2/ IL2-R binding rate 1 / (nM h) ???\n",
    "k_on = 111.6 * (10./6) * (1./3600)\n",
    "# receptor expression levels (molecules / cell)\n",
    "R_resp = 0\n",
    "R = 100 / (np.pi * a**2)\n",
    "# IL2 secretion rate (molecules / sec)\n",
    "q = 10\n",
    "# IL2 diffusion constant (micrometer**2 / sec)\n",
    "D = 10\n",
    "# iterations, increase to get more precise results but dont blow up your computer\n",
    "n_max = 20"
   ]
  },
  {
   "cell_type": "code",
   "execution_count": 16,
   "metadata": {
    "collapsed": true
   },
   "outputs": [],
   "source": [
    "# plotting parameters\n",
    "\n",
    "# density of grid (increase for nicer resolution, but will slow down computation)\n",
    "res = 50\n",
    "\n",
    "# define a saturation level (greater il2 concentrations than this will all have the same colour)\n",
    "saturation_level = 2000\n",
    "\n",
    "# synapse geometry (radius = 0 return division by zero)\n",
    "radius_start = -a\n",
    "radius_stop = a\n",
    "zylinder_start = 0\n",
    "zylinder_stop = l\n",
    "r_arr = np.linspace(radius_start, radius_stop, res)\n",
    "z_arr = np.linspace(zylinder_start, l, res)\n",
    "\n",
    "# design grid\n",
    "r_mesh, z_mesh = np.meshgrid(r_arr, z_arr)\n",
    "intensity = np.zeros_like(r_mesh)\n",
    "# solution is symmetrical\n",
    "intensity = np.flip(intensity, 1) + intensity"
   ]
  },
  {
   "cell_type": "code",
   "execution_count": 17,
   "metadata": {
    "collapsed": true
   },
   "outputs": [],
   "source": [
    "#==============================================================================\n",
    "# computation\n",
    "#==============================================================================\n",
    "\n",
    "# for each element in grid, compute the IL2 concentration\n",
    "for i, r in enumerate(r_arr):\n",
    "    for j, z in enumerate(z_arr):\n",
    "        il2_conc = functions.bessel_sum(r, z, n_max, a, l, R, R_resp, k_on, q, D)\n",
    "\n",
    "        # convert back to il2 concentration from number of molecules per cubic micrometer\n",
    "        # also convert to picomolar concentration\n",
    "        \n",
    "        il2_conc = 0.6 * 1e3 * il2_conc \n",
    "        if il2_conc > saturation_level:\n",
    "            il2_conc = saturation_level\n",
    "        intensity[j,i] = il2_conc\n",
    "\n",
    "# remove 1 dimension because intensity should be bounded by the grid\n",
    "intensity = intensity[:-1, :-1]"
   ]
  },
  {
   "cell_type": "code",
   "execution_count": 19,
   "metadata": {
    "collapsed": false
   },
   "outputs": [],
   "source": [
    "#==============================================================================\n",
    "# plotting\n",
    "#==============================================================================\n",
    "\n",
    "# type of colormap, if you want to, you can choose your own fancy colormap, just google matplotlib colormaps\n",
    "cmap = \"jet\"\n",
    "\n",
    "fig, ax = plt.subplots(figsize = (6,4))\n",
    "heatmap = ax.pcolormesh(r_mesh, z_mesh, intensity, cmap = cmap, edgecolors = \"none\")\n",
    "ax.set_xlabel(r\"synapse radius ($\\mu m$)\")\n",
    "ax.set_ylabel(r\"cell-cell distance ($\\mu m$)\")\n",
    "\n",
    "fig.colorbar(heatmap, label = 'IL2 (pM)')\n",
    "plt.tight_layout()\n",
    "plt.show()"
   ]
  }
 ],
 "metadata": {
  "kernelspec": {
   "display_name": "Python 3",
   "language": "python",
   "name": "python3"
  },
  "language_info": {
   "codemirror_mode": {
    "name": "ipython",
    "version": 3
   },
   "file_extension": ".py",
   "mimetype": "text/x-python",
   "name": "python",
   "nbconvert_exporter": "python",
   "pygments_lexer": "ipython3",
   "version": "3.5.3"
  }
 },
 "nbformat": 4,
 "nbformat_minor": 2
}
